{
 "cells": [
  {
   "cell_type": "code",
   "execution_count": 37,
   "metadata": {},
   "outputs": [
    {
     "name": "stderr",
     "output_type": "stream",
     "text": [
      "2020-09-28 00:56:35 WARNING: Can not find mwt: default from official model list. Ignoring it.\n",
      "2020-09-28 00:56:35 INFO: Loading these models for language: en (English):\n",
      "=======================\n",
      "| Processor | Package |\n",
      "-----------------------\n",
      "| tokenize  | ewt     |\n",
      "| pos       | ewt     |\n",
      "| lemma     | ewt     |\n",
      "| depparse  | ewt     |\n",
      "=======================\n",
      "\n",
      "2020-09-28 00:56:35 INFO: Use device: gpu\n",
      "2020-09-28 00:56:35 INFO: Loading: tokenize\n",
      "2020-09-28 00:56:35 INFO: Loading: pos\n",
      "2020-09-28 00:56:36 INFO: Loading: lemma\n",
      "2020-09-28 00:56:36 INFO: Loading: depparse\n",
      "2020-09-28 00:56:37 INFO: Done loading processors!\n"
     ]
    }
   ],
   "source": [
    "import os\n",
    "import copy\n",
    "import stanza\n",
    "from nltk.tree import Tree\n",
    "from nltk.draw import TreeWidget\n",
    "from nltk.draw.util import CanvasFrame\n",
    "from IPython.display import Image, display\n",
    "#stanza.download('en')\n",
    "\n",
    "nlp = stanza.Pipeline('en', processors='tokenize,mwt,pos,lemma,depparse')"
   ]
  },
  {
   "cell_type": "code",
   "execution_count": 49,
   "metadata": {},
   "outputs": [],
   "source": [
    "relationPriority = {\n",
    "    \"nsubj\": 1,\n",
    "    \"obj\": 2,\n",
    "    \"obl\": 2,\n",
    "    \"det\": 3,\n",
    "    \"amod\": 2,\n",
    "    \"case\": 4,\n",
    "    \"root\": 0\n",
    "}\n",
    "\n",
    "def dependencyParse(sentence):\n",
    "    parsed = nlp(sentence)\n",
    "    parse_tree = [postProcess(sent, word) for sent in parsed.sentences for word in sent.words]\n",
    "    return parse_tree\n",
    "    \n",
    "def postProcess(sent, word):\n",
    "    tree_node = [word.deprel, word.text, sent.words[word.head-1].text if word.head > 0 else \"root\"]\n",
    "    printTree(tree_node)\n",
    "    return tree_node\n",
    "\n",
    "def printTree(tree):\n",
    "    print(f'word: {tree[1]}\\thead: {tree[2]}\\tdeprel: {tree[0]}', sep='\\n')"
   ]
  },
  {
   "cell_type": "code",
   "execution_count": 50,
   "metadata": {},
   "outputs": [],
   "source": [
    "class BinaryParseTree:\n",
    "    def __init__(self, val, left, right):\n",
    "        self.val = val\n",
    "        self.left = left\n",
    "        self.right = right\n",
    "        \n",
    "    def isTree(self):\n",
    "        return not (type(left) is str and type(right) is str)\n",
    "    \n",
    "    def getVal(self):\n",
    "        return self.val\n",
    "    \n",
    "    def getLeft(self):\n",
    "        return self.left\n",
    "    \n",
    "    def getRight(self):\n",
    "        return self.right"
   ]
  },
  {
   "cell_type": "code",
   "execution_count": 51,
   "metadata": {},
   "outputs": [
    {
     "name": "stdout",
     "output_type": "stream",
     "text": [
      "Every good student study the math\n",
      "word: Every\thead: student\tdeprel: det\n",
      "word: good\thead: student\tdeprel: amod\n",
      "word: student\thead: study\tdeprel: nsubj\n",
      "word: study\thead: root\tdeprel: root\n",
      "word: the\thead: math\tdeprel: det\n",
      "word: math\thead: study\tdeprel: obj\n",
      "Every young student play the piano\n",
      "word: Every\thead: student\tdeprel: det\n",
      "word: young\thead: student\tdeprel: amod\n",
      "word: student\thead: play\tdeprel: nsubj\n",
      "word: play\thead: root\tdeprel: root\n",
      "word: the\thead: piano\tdeprel: det\n",
      "word: piano\thead: play\tdeprel: obj\n",
      "Some doctors work with no chemist\n",
      "word: Some\thead: doctors\tdeprel: det\n",
      "word: doctors\thead: work\tdeprel: nsubj\n",
      "word: work\thead: root\tdeprel: root\n",
      "word: with\thead: chemist\tdeprel: case\n",
      "word: no\thead: chemist\tdeprel: det\n",
      "word: chemist\thead: work\tdeprel: obl\n"
     ]
    }
   ],
   "source": [
    "sentences = [\"Every good student study the math\", \"Every young student play the piano\", \"Some doctors work with no chemist\"]\n",
    "\n",
    "parseForest = []\n",
    "for sent in sentences:\n",
    "    print(sent)\n",
    "    parseForest.append(dependencyParse(sent))"
   ]
  },
  {
   "cell_type": "code",
   "execution_count": 52,
   "metadata": {},
   "outputs": [],
   "source": [
    "def compose(head, priority, parseTree):\n",
    "    children = list(filter(lambda x: x[2] == head, parseTree))\n",
    "    topDeps = list(filter(lambda x: relationPriority[x[0]] == priority, children))\n",
    "    if len(topDeps) == 0:\n",
    "        return BinaryParseTree(head, \"N\", \"N\")\n",
    "    else: \n",
    "        topDep = topDeps[0]\n",
    "    parseTree.remove(topDep)\n",
    "    left = compose(topDep[1], priority+1, parseTree)\n",
    "    right = compose(topDep[2], priority+1, parseTree)\n",
    "    binaryTree = BinaryParseTree(topDep[0], left, right)\n",
    "    return binaryTree\n",
    "\n",
    "def binarization(parseTree):\n",
    "    root = list(filter(lambda x: x[0] == \"root\", parseTree))[0][1]\n",
    "    return compose(root, 1, parseTree) "
   ]
  },
  {
   "cell_type": "code",
   "execution_count": 53,
   "metadata": {},
   "outputs": [],
   "source": [
    "def treeToList(binaryDepdency):\n",
    "    def toList(tree):\n",
    "        treelist = []\n",
    "        if tree.getVal() not in relationPriority:\n",
    "            treelist.append('W')\n",
    "            treelist.append(tree.getVal())\n",
    "        else:\n",
    "            treelist.append(tree.getVal())\n",
    "        \n",
    "        left = tree.getLeft()\n",
    "        right = tree.getRight()\n",
    "\n",
    "        if left is not 'N':\n",
    "            treelist.append(toList(left))\n",
    "       \n",
    "        if right is not 'N':\n",
    "            treelist.append(toList(right))\n",
    "\n",
    "        return treelist\n",
    "    return toList(binaryDepdency)"
   ]
  },
  {
   "cell_type": "code",
   "execution_count": 54,
   "metadata": {},
   "outputs": [],
   "source": [
    "def jupyter_draw_nltk_tree(tree):\n",
    "    cf = CanvasFrame()\n",
    "    tc = TreeWidget(cf.canvas(), tree)\n",
    "    tc['node_font'] = 'arial 14 bold'\n",
    "    tc['leaf_font'] = 'arial 14'\n",
    "    tc['node_color'] = '#005990'\n",
    "    tc['leaf_color'] = '#3F8F57'\n",
    "    tc['line_color'] = '#175252'\n",
    "    cf.add_widget(tc, 20, 20)\n",
    "    cf.print_to_file('tree.ps')\n",
    "    cf.destroy()\n",
    "    os.system('magick convert tree.ps tree.png')\n",
    "    display(Image(filename='tree.png'))\n",
    "    os.system('rm tree.ps tree.png')"
   ]
  },
  {
   "cell_type": "code",
   "execution_count": 55,
   "metadata": {},
   "outputs": [
    {
     "name": "stdout",
     "output_type": "stream",
     "text": [
      "(nsubj  (amod  (W  good)  (det  (W  Every)  (W  student)))  (obj  (det  (W  the)  (W  math))  (W  study)))\n"
     ]
    },
    {
     "data": {
      "image/png": "[encoded data removed]",
      "text/plain": [
       "<IPython.core.display.Image object>"
      ]
     },
     "metadata": {},
     "output_type": "display_data"
    },
    {
     "name": "stdout",
     "output_type": "stream",
     "text": [
      "(nsubj  (amod  (W  young)  (det  (W  Every)  (W  student)))  (obj  (det  (W  the)  (W  piano))  (W  play)))\n"
     ]
    },
    {
     "data": {
      "image/png": "[encoded data removed]",
      "text/plain": [
       "<IPython.core.display.Image object>"
      ]
     },
     "metadata": {},
     "output_type": "display_data"
    },
    {
     "name": "stdout",
     "output_type": "stream",
     "text": [
      "(nsubj  (W  doctors)  (obl  (det  (W  no)  (case  (W  with)  (W  chemist)))  (W  work)))\n"
     ]
    },
    {
     "data": {
      "image/png": "[encoded data removed]",
      "text/plain": [
       "<IPython.core.display.Image object>"
      ]
     },
     "metadata": {},
     "output_type": "display_data"
    }
   ],
   "source": [
    "for tree in parseForest:\n",
    "    parseTreeCopy = copy.deepcopy(tree)\n",
    "    binaryDepdency = binarization(parseTreeCopy)\n",
    "    sexpression = str(treeToList(binaryDepdency)).replace(',', ' ').replace(\"'\", '').replace('[', '(').replace(']', ')')\n",
    "    print(sexpression)\n",
    "    treeViz = Tree.fromstring(sexpression)\n",
    "    jupyter_draw_nltk_tree(treeViz)"
   ]
  },
  {
   "cell_type": "code",
   "execution_count": null,
   "metadata": {},
   "outputs": [],
   "source": []
  }
 ],
 "metadata": {
  "kernelspec": {
   "display_name": "Python 3",
   "language": "python",
   "name": "python3"
  },
  "language_info": {
   "codemirror_mode": {
    "name": "ipython",
    "version": 3
   },
   "file_extension": ".py",
   "mimetype": "text/x-python",
   "name": "python",
   "nbconvert_exporter": "python",
   "pygments_lexer": "ipython3",
   "version": "3.7.6"
  }
 },
 "nbformat": 4,
 "nbformat_minor": 4
}
