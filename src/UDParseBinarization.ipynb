{
 "cells": [
  {
   "cell_type": "code",
   "execution_count": 1,
   "metadata": {},
   "outputs": [
    {
     "name": "stderr",
     "output_type": "stream",
     "text": [
      "2020-10-04 01:16:47 WARNING: Can not find mwt: default from official model list. Ignoring it.\n",
      "2020-10-04 01:16:47 INFO: Loading these models for language: en (English):\n",
      "=======================\n",
      "| Processor | Package |\n",
      "-----------------------\n",
      "| tokenize  | ewt     |\n",
      "| pos       | ewt     |\n",
      "| lemma     | ewt     |\n",
      "| depparse  | ewt     |\n",
      "=======================\n",
      "\n",
      "2020-10-04 01:16:48 INFO: Use device: gpu\n",
      "2020-10-04 01:16:48 INFO: Loading: tokenize\n",
      "2020-10-04 01:16:52 INFO: Loading: pos\n",
      "2020-10-04 01:16:54 INFO: Loading: lemma\n",
      "2020-10-04 01:16:54 INFO: Loading: depparse\n",
      "2020-10-04 01:16:55 INFO: Done loading processors!\n"
     ]
    }
   ],
   "source": [
    "import os\n",
    "import copy\n",
    "import stanza\n",
    "from nltk.tree import Tree\n",
    "from nltk.draw import TreeWidget\n",
    "from nltk.draw.util import CanvasFrame\n",
    "from IPython.display import Image, display\n",
    "#stanza.download('en')\n",
    "\n",
    "nlp = stanza.Pipeline('en', processors='tokenize,mwt,pos,lemma,depparse')"
   ]
  },
  {
   "cell_type": "code",
   "execution_count": 160,
   "metadata": {},
   "outputs": [],
   "source": [
    "relationPriority = {    \n",
    "    \"BIND\": 9,\n",
    "    \"conj-verb\": 10,\n",
    "    \"amod\": 10,\n",
    "    \"compound\": 10,\n",
    "    \"expl\": 10,\n",
    "    \"det\": 15,\n",
    "    \"cc\": 15,\n",
    "    \"conj-adj\": 16,\n",
    "    \"conj-np\": 16,\n",
    "    \"appos\": 16,\n",
    "    \"acl:relcl\": 16,\n",
    "    \"acl\": 16,\n",
    "    \"acl-other\": 16,\n",
    "    \"cop\": 20,\n",
    "    \"obj\": 20,\n",
    "    \"obj:wh\": 20,\n",
    "    \"obj-wh\": 20,\n",
    "    \"auxpass\": 30,\n",
    "    \"aux\": 30,\n",
    "    \"xcomp\": 30,\n",
    "    \"nmod:poss\": 40,\n",
    "    \"nmod:npmod\": 40,\n",
    "    \"nmod:tmod\": 40,\n",
    "    \"nmod:count\": 40,\n",
    "    \"nmod\": 40,\n",
    "    \"obl\": 40,\n",
    "    \"advmod\": 40,\n",
    "    \"advmod:count\": 40,\n",
    "    \"advcl\": 40,\n",
    "    \"ccomp\": 40,\n",
    "    \"conj-vp\": 45,\n",
    "    \"nsubj\": 60,\n",
    "    \"nsubjpass\": 60,\n",
    "    \"nsubj-wh\": 60,\n",
    "    \"case\": 70,\n",
    "    \"conj-sent\": 80,\n",
    "    \"punct\": 90,\n",
    "    \"root\": 90,\n",
    "}\n",
    "\n",
    "\n",
    "def dependencyParse(sentence):\n",
    "    postag = {}\n",
    "    parsed = nlp(sentence.lower())\n",
    "    parse_tree = [postProcess(sent, word, postag) for sent in parsed.sentences for word in sent.words]\n",
    "    return (parse_tree, postag)\n",
    "    \n",
    "def postProcess(sent, word, postag):\n",
    "    if word.text not in postag:\n",
    "        postag[word.text] = (word.id, word.upos, word.xpos)\n",
    "    tree_node = [word.deprel, word.text, sent.words[word.head-1].text if word.head > 0 else \"root\"]\n",
    "    printTree(tree_node, postag[word.text])\n",
    "    return tree_node\n",
    "\n",
    "def printTree(tree, tag):\n",
    "    print(f'word: {tree[1]}\\thead: {tree[2]}\\tdeprel: {tree[0]} \\tid: {tag[0]} \\tnpos: {tag[1]} \\txpos: {tag[2]}', sep='\\n')"
   ]
  },
  {
   "cell_type": "code",
   "execution_count": 161,
   "metadata": {},
   "outputs": [],
   "source": [
    "class BinaryDependencyTree:\n",
    "    def __init__(self, val, left, right, wid=None, npos=None, xpos=None):\n",
    "        self.val = val\n",
    "        self.left = left\n",
    "        self.right = right\n",
    "        self.mark = \"0\"\n",
    "        self.id = wid\n",
    "        self.npos = npos\n",
    "        self.xpos = xpos\n",
    "        \n",
    "    def isTree(self):\n",
    "        return not (type(self.left) is str and type(self.right) is str)\n",
    "    \n",
    "    def getVal(self):\n",
    "        return self.val\n",
    "    \n",
    "    def getLeft(self):\n",
    "        return self.left\n",
    "    \n",
    "    def getRight(self):\n",
    "        return self.right\n",
    "    \n",
    "class DependencyTree:\n",
    "    def __init__(self, val, children):\n",
    "        self.val = val\n",
    "        self.children = children\n",
    "        \n",
    "    def isTree(self):\n",
    "        return len(self.children) != 0\n",
    "    \n",
    "    def getVal(self):\n",
    "        return self.val\n",
    "    \n",
    "    def getChildren(self):\n",
    "        return self.children\n",
    "    \n",
    "    def addChildren(self, child):\n",
    "        self.children.append(child)"
   ]
  },
  {
   "cell_type": "code",
   "execution_count": 162,
   "metadata": {},
   "outputs": [],
   "source": [
    "def composeMulti(head, rel, parseTable):\n",
    "    children = list(filter(lambda x: x[2] == head, parseTable))\n",
    "    if len(children) == 0:\n",
    "        return DependencyTree([rel, head], [])\n",
    "    \n",
    "    treeChildren = []\n",
    "    for child in children:\n",
    "        childTree = composeMulti(child[1], child[0], parseTable)\n",
    "        treeChildren.append(childTree)\n",
    "        \n",
    "    depTree = DependencyTree([rel, head], treeChildren)\n",
    "    return depTree\n",
    "\n",
    "def makeDepTree(parseTable):\n",
    "    root = list(filter(lambda x: x[2] == \"root\", parseTable))[0][1]\n",
    "    return composeMulti(root, \"root\", parseTable) \n",
    "\n",
    "\n",
    "class Binarizer:\n",
    "    def __init__(self, parseTable=None, postag=None):\n",
    "        self.postag = postag\n",
    "        self.parseTable = parseTable\n",
    "        \n",
    "    def compose(self, head):\n",
    "        children = list(filter(lambda x: x[2] == head, self.parseTable))\n",
    "        children.sort(key=(lambda x: relationPriority[x[0]]), reverse=True)\n",
    "        if len(children) == 0:\n",
    "            tag = self.postag[head]\n",
    "            return BinaryDependencyTree(head, \"N\", \"N\", tag[0], tag[1], tag[2])\n",
    "        else: \n",
    "            topDep = children[0]\n",
    "        self.parseTable.remove(topDep)\n",
    "        left = self.compose(topDep[1])\n",
    "        right = self.compose(topDep[2])\n",
    "        binaryTree = BinaryDependencyTree(topDep[0], left, right)\n",
    "        return binaryTree\n",
    "\n",
    "    def binarization(self):\n",
    "        root = list(filter(lambda x: x[0] == \"root\", self.parseTable))[0][1]\n",
    "        return self.compose(root)  \n",
    "    "
   ]
  },
  {
   "cell_type": "code",
   "execution_count": 163,
   "metadata": {},
   "outputs": [],
   "source": [
    "arrows = {\n",
    "    \"+\" : \"\\u2191\",\n",
    "    \"-\" : \"\\u2193\",\n",
    "    \"=\" : \"=\",\n",
    "    \"0\" : \"\"\n",
    "}\n",
    "\n",
    "def btreeToList(binaryDepdency):\n",
    "    def toList(tree):\n",
    "        treelist = []\n",
    "        if tree.getVal() not in relationPriority:\n",
    "            treelist.append(tree.npos)\n",
    "            treelist.append(tree.getVal()+arrows[tree.mark])\n",
    "        else:\n",
    "            treelist.append(tree.getVal())\n",
    "        \n",
    "        left = tree.getLeft()\n",
    "        right = tree.getRight()\n",
    "\n",
    "        if left is not 'N':\n",
    "            treelist.append(toList(left))\n",
    "       \n",
    "        if right is not 'N':\n",
    "            treelist.append(toList(right))\n",
    "\n",
    "        return treelist\n",
    "    return toList(binaryDepdency)\n",
    "\n",
    "def treeToList(depdency):\n",
    "    def toList(tree):\n",
    "        treelist = []\n",
    "        val = tree.getVal()\n",
    "        label = str(val[0]) + '<' +str(val[1]) + '>'\n",
    "        treelist.append(label)\n",
    "        \n",
    "        children = tree.getChildren()\n",
    "        for child in children:\n",
    "            treelist.append(toList(child)) \n",
    "\n",
    "        return treelist\n",
    "    return toList(depdency)"
   ]
  },
  {
   "cell_type": "code",
   "execution_count": 164,
   "metadata": {},
   "outputs": [],
   "source": [
    "def jupyter_draw_nltk_tree(tree):\n",
    "    cf = CanvasFrame()\n",
    "    tc = TreeWidget(cf.canvas(), tree)\n",
    "    tc['node_font'] = 'arial 14 bold'\n",
    "    tc['leaf_font'] = 'arial 14'\n",
    "    tc['node_color'] = '#005990'\n",
    "    tc['leaf_color'] = '#3F8F57'\n",
    "    tc['line_color'] = '#175252'\n",
    "    cf.add_widget(tc, 20, 20)\n",
    "    cf.print_to_file('../data/tree_img/tree.ps')\n",
    "    cf.destroy()\n",
    "    os.system('magick convert ../data/tree_img/tree.ps ../data/tree_img/tree.png')\n",
    "    display(Image(filename='../data/tree_img/tree.png'))"
   ]
  },
  {
   "cell_type": "code",
   "execution_count": 165,
   "metadata": {},
   "outputs": [],
   "source": [
    "negate_mark = {\n",
    "    \"+\":\"-\",\n",
    "    \"-\":\"+\",\n",
    "    \"=\":\"=\"\n",
    "}\n",
    "\n",
    "det_mark = {\n",
    "    \"det:univ\": (\"+\", \"-\"),\n",
    "    \"det:exist\": (\"+\", \"+\"),\n",
    "    \"det:limit\": (\"+\", \"=\"),\n",
    "    \"det:negation\": (\"+\", \"-\")\n",
    "}\n",
    "\n",
    "det_type_words = {\n",
    "    \"det:univ\": [\"all\", \"every\", \"each\", \"both\"],\n",
    "    \"det:exist\": [\"a\", \"an\", \"some\"],\n",
    "    \"det:limit\": [\"the\", \"this\", \"that\", \"those\", \"these\", \"my\", \"his\", \"her\"],\n",
    "    \"det:negation\": [\"no\"]\n",
    "}\n",
    "\n",
    "def det_type(word):\n",
    "    for det in det_type_words:\n",
    "        if word.lower() in det_type_words[det]:\n",
    "            return det"
   ]
  },
  {
   "cell_type": "code",
   "execution_count": 169,
   "metadata": {},
   "outputs": [],
   "source": [
    "class Polarizer:\n",
    "    \n",
    "    def __init__(self, dependtree):\n",
    "        self.dependtree = dependtree\n",
    "        self.polarize_function = {\n",
    "            \"nsubj\": self.polarize_nsubj,\n",
    "            \"det\": self.polarize_det\n",
    "        }\n",
    "        #self.isNegate = False\n",
    "        \n",
    "    def polarize_deptree(self):\n",
    "        self.polarize(self.dependtree)\n",
    "        #if self.isNegate:\n",
    "        \n",
    "    def polarize(self, tree):\n",
    "        if tree.isTree():\n",
    "            self.polarize_function[tree.val](tree)\n",
    "        else:\n",
    "            print(tree.val + tree.mark)\n",
    "\n",
    "    def polarize_nsubj(self, tree):\n",
    "        right = tree.getRight()\n",
    "        left = tree.getLeft()\n",
    "        if right.isTree():\n",
    "            self.polarize(right)\n",
    "        else:\n",
    "            right.mark = '+'\n",
    "        if left.isTree():\n",
    "            self.polarize(left)\n",
    "        else:\n",
    "            left.mark = '+'\n",
    "        \n",
    "    def polarize_det(self, tree):\n",
    "        right = tree.getRight()\n",
    "        left = tree.getLeft()\n",
    "        \n",
    "        detType = det_type(left.val)\n",
    "        #print(left.val)\n",
    "        #print(detType)\n",
    "        detMark = det_mark[detType]\n",
    "        \n",
    "        tree.right.mark = detMark[1]\n",
    "        \n",
    "        if right.isTree():\n",
    "            self.polarize(right)\n",
    "        \n",
    "        left.mark = detMark[0]\n",
    "        if detType == \"det:negation\":\n",
    "            #self.isNegate = True\n",
    "            self.negate(self.dependtree)\n",
    "            \n",
    "    def negate(self, tree):\n",
    "        if tree.isTree():\n",
    "            if tree.val != \"det\":\n",
    "                self.negate(tree.getRight())\n",
    "                self.negate(tree.getLeft())\n",
    "                if tree.mark != \"0\":\n",
    "                    tree.mark = negate_mark[tree.mark]\n",
    "        else:\n",
    "            tree.mark = negate_mark[tree.mark]"
   ]
  },
  {
   "cell_type": "code",
   "execution_count": 170,
   "metadata": {
    "scrolled": false
   },
   "outputs": [
    {
     "name": "stdout",
     "output_type": "stream",
     "text": [
      "All dogs eat\n",
      "word: all\thead: dogs\tdeprel: det \tid: 1 \tnpos: DET \txpos: DT\n",
      "word: dogs\thead: eat\tdeprel: nsubj \tid: 2 \tnpos: NOUN \txpos: NNS\n",
      "word: eat\thead: root\tdeprel: root \tid: 3 \tnpos: VERB \txpos: VBP\n",
      "[nsubj  [det  [DET  all↑]  [NOUN  dogs↓]]  [VERB  eat↑]]\n"
     ]
    },
    {
     "data": {
      "image/png": "[encoded data removed]",
      "text/plain": [
       "<IPython.core.display.Image object>"
      ]
     },
     "metadata": {},
     "output_type": "display_data"
    },
    {
     "name": "stdout",
     "output_type": "stream",
     "text": [
      "No dog eats\n",
      "word: no\thead: dog\tdeprel: det \tid: 1 \tnpos: DET \txpos: DT\n",
      "word: dog\thead: eats\tdeprel: nsubj \tid: 2 \tnpos: NOUN \txpos: NN\n",
      "word: eats\thead: root\tdeprel: root \tid: 3 \tnpos: VERB \txpos: VBZ\n",
      "[nsubj  [det  [DET  no↑]  [NOUN  dog↓]]  [VERB  eats↓]]\n"
     ]
    },
    {
     "data": {
      "image/png": "[encoded data removed]",
      "text/plain": [
       "<IPython.core.display.Image object>"
      ]
     },
     "metadata": {},
     "output_type": "display_data"
    },
    {
     "name": "stdout",
     "output_type": "stream",
     "text": [
      "Some dogs eat\n",
      "word: some\thead: dogs\tdeprel: det \tid: 1 \tnpos: DET \txpos: DT\n",
      "word: dogs\thead: eat\tdeprel: nsubj \tid: 2 \tnpos: NOUN \txpos: NNS\n",
      "word: eat\thead: root\tdeprel: root \tid: 3 \tnpos: VERB \txpos: VBP\n",
      "[nsubj  [det  [DET  some↑]  [NOUN  dogs↑]]  [VERB  eat↑]]\n"
     ]
    },
    {
     "data": {
      "image/png": "[encoded data removed]",
      "text/plain": [
       "<IPython.core.display.Image object>"
      ]
     },
     "metadata": {},
     "output_type": "display_data"
    },
    {
     "name": "stdout",
     "output_type": "stream",
     "text": [
      "A dog eats\n",
      "word: a\thead: dog\tdeprel: det \tid: 1 \tnpos: DET \txpos: DT\n",
      "word: dog\thead: eats\tdeprel: nsubj \tid: 2 \tnpos: NOUN \txpos: NN\n",
      "word: eats\thead: root\tdeprel: root \tid: 3 \tnpos: VERB \txpos: VBZ\n",
      "[nsubj  [det  [DET  a↑]  [NOUN  dog↑]]  [VERB  eats↑]]\n"
     ]
    },
    {
     "data": {
      "image/png": "[encoded data removed]",
      "text/plain": [
       "<IPython.core.display.Image object>"
      ]
     },
     "metadata": {},
     "output_type": "display_data"
    },
    {
     "name": "stdout",
     "output_type": "stream",
     "text": [
      "This dog eats\n",
      "word: this\thead: dog\tdeprel: det \tid: 1 \tnpos: DET \txpos: DT\n",
      "word: dog\thead: eats\tdeprel: nsubj \tid: 2 \tnpos: NOUN \txpos: NN\n",
      "word: eats\thead: root\tdeprel: root \tid: 3 \tnpos: VERB \txpos: VBZ\n",
      "[nsubj  [det  [DET  this↑]  [NOUN  dog=]]  [VERB  eats↑]]\n"
     ]
    },
    {
     "data": {
      "image/png": "[encoded data removed]",
      "text/plain": [
       "<IPython.core.display.Image object>"
      ]
     },
     "metadata": {},
     "output_type": "display_data"
    }
   ],
   "source": [
    "sentences = [\"All dogs eat\", \"No dog eats\", \"Some dogs eat\", \"A dog eats\", \"This dog eats\"]\n",
    "#[\"A school girl with a black bag is on a crowded train\", \"every animal likes some young semanticist\"] \n",
    "#\"Every good student study the math\", \"Every young student play the piano\", \n",
    "#\"Some doctors work with no chemist\", \"Disney won an Oscar for the movie Avengers\",\n",
    "#\"There are no dogs that chase cats\"\n",
    "\n",
    "binarizer = Binarizer()\n",
    "\n",
    "for sent in sentences:\n",
    "    print(sent)\n",
    "    tree, postag = dependencyParse(sent)\n",
    "    parseTreeCopy = copy.deepcopy(tree)\n",
    "    \n",
    "    # binarization\n",
    "    binarizer.parseTable = parseTreeCopy\n",
    "    binarizer.postag = postag\n",
    "    binaryDepdency = binarizer.binarization()\n",
    "    \n",
    "    # polarization\n",
    "    polarizer = Polarizer(binaryDepdency)\n",
    "    polarizer.polarize_deptree()\n",
    "    \n",
    "    # postprocessing\n",
    "    sexpression = str(btreeToList(binaryDepdency)).replace(',', ' ').replace(\"'\", '')\n",
    "    print(sexpression)\n",
    "    sexpression = sexpression.replace('[', '(').replace(']', ')')\n",
    "    \n",
    "    #visualization\n",
    "    btreeViz = Tree.fromstring(sexpression)\n",
    "    jupyter_draw_nltk_tree(btreeViz)"
   ]
  },
  {
   "cell_type": "code",
   "execution_count": null,
   "metadata": {},
   "outputs": [],
   "source": []
  },
  {
   "cell_type": "code",
   "execution_count": null,
   "metadata": {},
   "outputs": [],
   "source": []
  }
 ],
 "metadata": {
  "kernelspec": {
   "display_name": "Python 3",
   "language": "python",
   "name": "python3"
  },
  "language_info": {
   "codemirror_mode": {
    "name": "ipython",
    "version": 3
   },
   "file_extension": ".py",
   "mimetype": "text/x-python",
   "name": "python",
   "nbconvert_exporter": "python",
   "pygments_lexer": "ipython3",
   "version": "3.7.6"
  }
 },
 "nbformat": 4,
 "nbformat_minor": 4
}
